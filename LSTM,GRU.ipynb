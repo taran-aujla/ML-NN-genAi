{
  "nbformat": 4,
  "nbformat_minor": 0,
  "metadata": {
    "colab": {
      "provenance": [],
      "authorship_tag": "ABX9TyMxfPCMFbvOebilRpdHzRUY",
      "include_colab_link": true
    },
    "kernelspec": {
      "name": "python3",
      "display_name": "Python 3"
    },
    "language_info": {
      "name": "python"
    }
  },
  "cells": [
    {
      "cell_type": "markdown",
      "metadata": {
        "id": "view-in-github",
        "colab_type": "text"
      },
      "source": [
        "<a href=\"https://colab.research.google.com/github/taran-aujla/ML-NN-genAi/blob/main/LSTM%2CGRU.ipynb\" target=\"_parent\"><img src=\"https://colab.research.google.com/assets/colab-badge.svg\" alt=\"Open In Colab\"/></a>"
      ]
    },
    {
      "cell_type": "code",
      "source": [
        "from tensorflow.keras import layers\n",
        "from tensorflow.keras import models\n",
        "from tensorflow.keras import datasets\n",
        "from tensorflow.keras.preprocessing.sequence import pad_sequences\n",
        "\n",
        "\n",
        "\n",
        "all_layers=layers\n",
        "print(dir(all_layers))"
      ],
      "metadata": {
        "colab": {
          "base_uri": "https://localhost:8080/"
        },
        "id": "jbWP1bDciutk",
        "outputId": "d4e1a5a6-e3c7-47e1-ccfd-9fa7733a29db"
      },
      "execution_count": 2,
      "outputs": [
        {
          "output_type": "stream",
          "name": "stdout",
          "text": [
            "['AbstractRNNCell', 'Activation', 'ActivityRegularization', 'Add', 'AdditiveAttention', 'AlphaDropout', 'Attention', 'Average', 'AveragePooling1D', 'AveragePooling2D', 'AveragePooling3D', 'AvgPool1D', 'AvgPool2D', 'AvgPool3D', 'BatchNormalization', 'Bidirectional', 'CategoryEncoding', 'CenterCrop', 'Concatenate', 'Conv1D', 'Conv1DTranspose', 'Conv2D', 'Conv2DTranspose', 'Conv3D', 'Conv3DTranspose', 'ConvLSTM1D', 'ConvLSTM2D', 'ConvLSTM3D', 'Convolution1D', 'Convolution1DTranspose', 'Convolution2D', 'Convolution2DTranspose', 'Convolution3D', 'Convolution3DTranspose', 'Cropping1D', 'Cropping2D', 'Cropping3D', 'Dense', 'DenseFeatures', 'DepthwiseConv1D', 'DepthwiseConv2D', 'Discretization', 'Dot', 'Dropout', 'ELU', 'EinsumDense', 'Embedding', 'Flatten', 'GRU', 'GRUCell', 'GaussianDropout', 'GaussianNoise', 'GlobalAveragePooling1D', 'GlobalAveragePooling2D', 'GlobalAveragePooling3D', 'GlobalAvgPool1D', 'GlobalAvgPool2D', 'GlobalAvgPool3D', 'GlobalMaxPool1D', 'GlobalMaxPool2D', 'GlobalMaxPool3D', 'GlobalMaxPooling1D', 'GlobalMaxPooling2D', 'GlobalMaxPooling3D', 'GroupNormalization', 'HashedCrossing', 'Hashing', 'Identity', 'Input', 'InputLayer', 'InputSpec', 'IntegerLookup', 'LSTM', 'LSTMCell', 'Lambda', 'Layer', 'LayerNormalization', 'LeakyReLU', 'LocallyConnected1D', 'LocallyConnected2D', 'Masking', 'MaxPool1D', 'MaxPool2D', 'MaxPool3D', 'MaxPooling1D', 'MaxPooling2D', 'MaxPooling3D', 'Maximum', 'Minimum', 'MultiHeadAttention', 'Multiply', 'Normalization', 'PReLU', 'Permute', 'RNN', 'RandomBrightness', 'RandomContrast', 'RandomCrop', 'RandomFlip', 'RandomHeight', 'RandomRotation', 'RandomTranslation', 'RandomWidth', 'RandomZoom', 'ReLU', 'RepeatVector', 'Rescaling', 'Reshape', 'Resizing', 'SeparableConv1D', 'SeparableConv2D', 'SeparableConvolution1D', 'SeparableConvolution2D', 'SimpleRNN', 'SimpleRNNCell', 'Softmax', 'SpatialDropout1D', 'SpatialDropout2D', 'SpatialDropout3D', 'SpectralNormalization', 'StackedRNNCells', 'StringLookup', 'Subtract', 'TextVectorization', 'ThresholdedReLU', 'TimeDistributed', 'UnitNormalization', 'UpSampling1D', 'UpSampling2D', 'UpSampling3D', 'Wrapper', 'ZeroPadding1D', 'ZeroPadding2D', 'ZeroPadding3D', '__builtins__', '__cached__', '__doc__', '__file__', '__loader__', '__name__', '__package__', '__path__', '__spec__', 'add', 'average', 'concatenate', 'deserialize', 'dot', 'experimental', 'maximum', 'minimum', 'multiply', 'serialize', 'subtract']\n"
          ]
        }
      ]
    },
    {
      "cell_type": "code",
      "source": [
        "\n",
        "( train_x,train_y),(test_x,test_y)=datasets.imdb.load_data(num_words=5000)\n",
        "\n",
        "train_x_pad=pad_sequences(train_x,maxlen=100)#100 here is the number of word we are accepting for padding not more\n",
        "test_x_pad=pad_sequences(test_x,maxlen=100 )\n",
        "\n",
        "model_lstm=models.Sequential([\n",
        "    layers.Embedding(input_dim=5000,output_dim=128,input_length=100),\n",
        "    layers.LSTM(units=64),\n",
        "    layers.Dense(units=1,activation='sigmoid')\n",
        "])\n",
        "\n",
        "model_lstm.compile(optimizer='Adam',loss='binary_crossentropy',metrics=['accuracy'])\n",
        "\n",
        "model_lstm.summary()\n",
        "\n",
        "model_lstm.fit(train_x_pad,train_y,epochs=10,batch_size=32,validation_data=(test_x_pad,test_y))\n",
        "\n",
        "score,acc=model_lstm.evaluate(test_x_pad,test_y)\n",
        "print(score,acc)\n",
        "\n"
      ],
      "metadata": {
        "colab": {
          "base_uri": "https://localhost:8080/"
        },
        "id": "A6UYmubmi4yS",
        "outputId": "b997fcfb-0bdd-4107-cb1f-22eb74cf919c"
      },
      "execution_count": 13,
      "outputs": [
        {
          "output_type": "stream",
          "name": "stdout",
          "text": [
            "Model: \"sequential_1\"\n",
            "_________________________________________________________________\n",
            " Layer (type)                Output Shape              Param #   \n",
            "=================================================================\n",
            " embedding_1 (Embedding)     (None, 100, 128)          640000    \n",
            "                                                                 \n",
            " lstm_1 (LSTM)               (None, 64)                49408     \n",
            "                                                                 \n",
            " dense_1 (Dense)             (None, 1)                 65        \n",
            "                                                                 \n",
            "=================================================================\n",
            "Total params: 689473 (2.63 MB)\n",
            "Trainable params: 689473 (2.63 MB)\n",
            "Non-trainable params: 0 (0.00 Byte)\n",
            "_________________________________________________________________\n",
            "Epoch 1/10\n",
            "782/782 [==============================] - 88s 110ms/step - loss: 0.4117 - accuracy: 0.8106 - val_loss: 0.3461 - val_accuracy: 0.8458\n",
            "Epoch 2/10\n",
            "782/782 [==============================] - 83s 106ms/step - loss: 0.2857 - accuracy: 0.8803 - val_loss: 0.3450 - val_accuracy: 0.8515\n",
            "Epoch 3/10\n",
            "782/782 [==============================] - 89s 114ms/step - loss: 0.2285 - accuracy: 0.9082 - val_loss: 0.4448 - val_accuracy: 0.8354\n",
            "Epoch 4/10\n",
            "782/782 [==============================] - 87s 112ms/step - loss: 0.1847 - accuracy: 0.9267 - val_loss: 0.4364 - val_accuracy: 0.8456\n",
            "Epoch 5/10\n",
            "782/782 [==============================] - 87s 111ms/step - loss: 0.1458 - accuracy: 0.9440 - val_loss: 0.4403 - val_accuracy: 0.8390\n",
            "Epoch 6/10\n",
            "782/782 [==============================] - 84s 108ms/step - loss: 0.1279 - accuracy: 0.9526 - val_loss: 0.4709 - val_accuracy: 0.8335\n",
            "Epoch 7/10\n",
            "782/782 [==============================] - 83s 106ms/step - loss: 0.0984 - accuracy: 0.9628 - val_loss: 0.5989 - val_accuracy: 0.8374\n",
            "Epoch 8/10\n",
            "782/782 [==============================] - 84s 108ms/step - loss: 0.0781 - accuracy: 0.9724 - val_loss: 0.6420 - val_accuracy: 0.8261\n",
            "Epoch 9/10\n",
            "782/782 [==============================] - 84s 107ms/step - loss: 0.0568 - accuracy: 0.9822 - val_loss: 0.7068 - val_accuracy: 0.8314\n",
            "Epoch 10/10\n",
            "782/782 [==============================] - 87s 112ms/step - loss: 0.0523 - accuracy: 0.9830 - val_loss: 0.7520 - val_accuracy: 0.8295\n",
            "782/782 [==============================] - 18s 22ms/step - loss: 0.7520 - accuracy: 0.8295\n"
          ]
        },
        {
          "output_type": "execute_result",
          "data": {
            "text/plain": [
              "<function print>"
            ]
          },
          "metadata": {},
          "execution_count": 13
        }
      ]
    },
    {
      "cell_type": "code",
      "source": [
        "from typing import Sequence\n",
        "(x_train,y_train),(x_test,y_test)=datasets.imdb.load_data(num_words=5000)\n",
        "\n",
        "x_train=pad_sequences(x_train,maxlen=10)\n",
        "x_test=pad_sequences(x_test,maxlen=10)\n",
        "\n",
        "model_gru=models.Sequential([\n",
        "    layers.Embedding(input_dim=5000,output_dim=100,input_length=10),\n",
        "    layers.GRU(units=128,dropout=0.2,recurrent_dropout=0.2),\n",
        "    layers.Dense(1,activation='sigmoid')\n",
        "])\n",
        "\n",
        "model_gru.compile(optimizer='Adam',loss='binary_crossentropy',metrics=['accuracy'])\n",
        "\n",
        "model_gru.fit(x_train,y_train,epochs=15,batch_size=32,validation_split=0.2)\n",
        "\n",
        "score,acc=model_gru.evaluate(x_test,y_test)\n",
        "print(\"score :\",score)\n",
        "print(\"acc :\",acc)\n"
      ],
      "metadata": {
        "colab": {
          "base_uri": "https://localhost:8080/"
        },
        "id": "Em3wWhlgIXF-",
        "outputId": "54e92d7a-a5d4-4017-b419-bc7d6cc66d00"
      },
      "execution_count": 7,
      "outputs": [
        {
          "output_type": "stream",
          "name": "stdout",
          "text": [
            "Epoch 1/15\n",
            "625/625 [==============================] - 24s 35ms/step - loss: 0.5773 - accuracy: 0.6799 - val_loss: 0.5384 - val_accuracy: 0.7164\n",
            "Epoch 2/15\n",
            "625/625 [==============================] - 19s 31ms/step - loss: 0.4742 - accuracy: 0.7656 - val_loss: 0.5517 - val_accuracy: 0.7146\n",
            "Epoch 3/15\n",
            "625/625 [==============================] - 22s 35ms/step - loss: 0.4141 - accuracy: 0.8046 - val_loss: 0.5669 - val_accuracy: 0.7224\n",
            "Epoch 4/15\n",
            "625/625 [==============================] - 20s 32ms/step - loss: 0.3585 - accuracy: 0.8363 - val_loss: 0.6075 - val_accuracy: 0.7200\n",
            "Epoch 5/15\n",
            "625/625 [==============================] - 21s 33ms/step - loss: 0.3066 - accuracy: 0.8621 - val_loss: 0.7024 - val_accuracy: 0.7106\n",
            "Epoch 6/15\n",
            "625/625 [==============================] - 20s 31ms/step - loss: 0.2617 - accuracy: 0.8862 - val_loss: 0.7560 - val_accuracy: 0.7064\n",
            "Epoch 7/15\n",
            "625/625 [==============================] - 21s 34ms/step - loss: 0.2241 - accuracy: 0.9035 - val_loss: 0.8244 - val_accuracy: 0.7044\n",
            "Epoch 8/15\n",
            "625/625 [==============================] - 19s 31ms/step - loss: 0.1946 - accuracy: 0.9169 - val_loss: 0.9832 - val_accuracy: 0.7056\n",
            "Epoch 9/15\n",
            "625/625 [==============================] - 21s 34ms/step - loss: 0.1672 - accuracy: 0.9282 - val_loss: 1.1156 - val_accuracy: 0.7070\n",
            "Epoch 10/15\n",
            "625/625 [==============================] - 19s 31ms/step - loss: 0.1455 - accuracy: 0.9420 - val_loss: 1.0781 - val_accuracy: 0.6950\n",
            "Epoch 11/15\n",
            "625/625 [==============================] - 20s 33ms/step - loss: 0.1238 - accuracy: 0.9498 - val_loss: 1.2444 - val_accuracy: 0.6922\n",
            "Epoch 12/15\n",
            "625/625 [==============================] - 20s 32ms/step - loss: 0.1075 - accuracy: 0.9585 - val_loss: 1.3226 - val_accuracy: 0.7036\n",
            "Epoch 13/15\n",
            "625/625 [==============================] - 21s 33ms/step - loss: 0.1002 - accuracy: 0.9609 - val_loss: 1.4518 - val_accuracy: 0.6972\n",
            "Epoch 14/15\n",
            "625/625 [==============================] - 21s 33ms/step - loss: 0.0833 - accuracy: 0.9682 - val_loss: 1.5096 - val_accuracy: 0.6928\n",
            "Epoch 15/15\n",
            "625/625 [==============================] - 19s 31ms/step - loss: 0.0726 - accuracy: 0.9711 - val_loss: 1.5725 - val_accuracy: 0.6934\n",
            "782/782 [==============================] - 4s 5ms/step - loss: 1.6161 - accuracy: 0.6882\n",
            "score : 1.6160515546798706\n",
            "acc : 0.6881600022315979\n"
          ]
        }
      ]
    }
  ]
}